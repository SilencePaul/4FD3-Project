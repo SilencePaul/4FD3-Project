{
 "cells": [
  {
   "cell_type": "code",
   "execution_count": 1,
   "metadata": {},
   "outputs": [],
   "source": [
    "from polygon import RESTClient\n",
    "from datetime import datetime, timedelta\n",
    "\n",
    "client = RESTClient(api_key=\"wW55pKJzExsThjPDizKdf8OAdDfkvLPW\")"
   ]
  },
  {
   "cell_type": "markdown",
   "metadata": {},
   "source": [
    "If the ticker name is known"
   ]
  },
  {
   "cell_type": "code",
   "execution_count": 2,
   "metadata": {},
   "outputs": [],
   "source": [
    "ticker_BTC = \"X:BTCUSD\"\n",
    "ticker_apple = \"AAPL\"\n",
    "aggs_BTC = []\n",
    "aggs_apple = []\n",
    "for a in client.list_aggs(ticker=ticker_BTC, multiplier=1, timespan=\"day\", from_=\"2024-01-15\", to=\"2024-01-26\", limit=50000):\n",
    "    aggs_BTC.append(a)\n",
    "\n",
    "for a in client.list_aggs(ticker=ticker_apple, multiplier=1, timespan=\"day\", from_=\"2024-01-15\", to=\"2024-01-26\", limit=50000):\n",
    "    aggs_apple.append(a)\n"
   ]
  },
  {
   "cell_type": "code",
   "execution_count": 3,
   "metadata": {},
   "outputs": [
    {
     "name": "stdout",
     "output_type": "stream",
     "text": [
      "Agg(open=182.16, high=184.26, low=180.934, close=183.63, volume=65076641.0, vwap=182.8866, timestamp=1705381200000, transactions=767281, otc=None)\n",
      "Agg(open=181.27, high=182.93, low=180.3, close=182.68, volume=47317433.0, vwap=181.9201, timestamp=1705467600000, transactions=594632, otc=None)\n",
      "Agg(open=186.09, high=189.14, low=185.83, close=188.63, volume=77722754.0, vwap=187.9358, timestamp=1705554000000, transactions=787233, otc=None)\n",
      "Agg(open=189.33, high=191.95, low=188.82, close=191.56, volume=68887985.0, vwap=190.6149, timestamp=1705640400000, transactions=682663, otc=None)\n",
      "Agg(open=192.3, high=195.33, low=192.26, close=193.89, volume=60131852.0, vwap=193.9891, timestamp=1705899600000, transactions=718107, otc=None)\n",
      "Agg(open=195.02, high=195.75, low=193.8299, close=195.18, volume=42355590.0, vwap=194.8203, timestamp=1705986000000, transactions=533093, otc=None)\n",
      "Agg(open=195.42, high=196.38, low=194.34, close=194.5, volume=53631316.0, vwap=195.2063, timestamp=1706072400000, transactions=594714, otc=None)\n",
      "Agg(open=195.22, high=196.2675, low=193.1125, close=194.17, volume=54822126.0, vwap=194.7337, timestamp=1706158800000, transactions=644526, otc=None)\n",
      "Agg(open=194.27, high=194.76, low=191.94, close=192.42, volume=44587111.0, vwap=193.1207, timestamp=1706245200000, transactions=534165, otc=None)\n"
     ]
    }
   ],
   "source": [
    "for i in aggs_apple:\n",
    "    print(i)"
   ]
  },
  {
   "cell_type": "code",
   "execution_count": 4,
   "metadata": {},
   "outputs": [
    {
     "name": "stdout",
     "output_type": "stream",
     "text": [
      "2024-01-14 X:BTCUSD Close Price:42520\n",
      "2024-01-15 X:BTCUSD Close Price:43130.46\n",
      "2024-01-16 X:BTCUSD Close Price:42739.49\n",
      "2024-01-17 X:BTCUSD Close Price:41292.71\n",
      "2024-01-18 X:BTCUSD Close Price:41621.24\n",
      "2024-01-19 X:BTCUSD Close Price:41666.67\n",
      "2024-01-20 X:BTCUSD Close Price:41554.05\n",
      "2024-01-21 X:BTCUSD Close Price:39524.27\n",
      "2024-01-22 X:BTCUSD Close Price:39878.3\n",
      "2024-01-23 X:BTCUSD Close Price:40069.8\n",
      "2024-01-24 X:BTCUSD Close Price:39941.66\n",
      "2024-01-25 X:BTCUSD Close Price:41812\n",
      "2024-01-16 AAPL Close Price:183.63\n",
      "2024-01-17 AAPL Close Price:182.68\n",
      "2024-01-18 AAPL Close Price:188.63\n",
      "2024-01-19 AAPL Close Price:191.56\n",
      "2024-01-22 AAPL Close Price:193.89\n",
      "2024-01-23 AAPL Close Price:195.18\n",
      "2024-01-24 AAPL Close Price:194.5\n",
      "2024-01-25 AAPL Close Price:194.17\n",
      "2024-01-26 AAPL Close Price:192.42\n"
     ]
    }
   ],
   "source": [
    "for i in aggs_BTC:\n",
    "    date = datetime.fromtimestamp(i.timestamp/1000).date()\n",
    "    date_string = date.strftime('%Y-%m-%d')\n",
    "    close_price = i.close\n",
    "    print(date_string + \" \" + ticker_BTC +\" Close Price:\" + str(close_price))\n",
    "\n",
    "for i in aggs_apple:\n",
    "    date = datetime.fromtimestamp(i.timestamp/1000).date()\n",
    "    date_string = date.strftime('%Y-%m-%d')\n",
    "    close_price = i.close\n",
    "    print(date_string + \" \" + ticker_apple +\" Close Price:\" + str(close_price))\n"
   ]
  },
  {
   "cell_type": "markdown",
   "metadata": {},
   "source": [
    "Use requests to get the ticker and their name"
   ]
  },
  {
   "cell_type": "code",
   "execution_count": 5,
   "metadata": {},
   "outputs": [
    {
     "name": "stdout",
     "output_type": "stream",
     "text": [
      "{'results': [{'ticker': 'X:1INCHUSD', 'name': '1inch - United States Dollar', 'market': 'crypto', 'locale': 'global', 'active': True, 'currency_symbol': 'USD', 'currency_name': 'United States Dollar', 'base_currency_symbol': '1INCH', 'base_currency_name': '1inch', 'last_updated_utc': '2017-01-01T00:00:00Z'}, {'ticker': 'X:AAVEUSD', 'name': 'Aave - United States Dollar', 'market': 'crypto', 'locale': 'global', 'active': True, 'currency_symbol': 'USD', 'currency_name': 'United States Dollar', 'base_currency_symbol': 'AAVE', 'base_currency_name': 'Aave', 'last_updated_utc': '2017-01-01T00:00:00Z'}, {'ticker': 'X:ACHUSD', 'name': 'Alchemy Pay - United States Dollar', 'market': 'crypto', 'locale': 'global', 'active': True, 'currency_symbol': 'USD', 'currency_name': 'United States Dollar', 'base_currency_symbol': 'ACH', 'base_currency_name': 'Alchemy Pay', 'last_updated_utc': '2017-01-01T00:00:00Z'}, {'ticker': 'X:ADAUSD', 'name': 'Cardano - United States Dollar', 'market': 'crypto', 'locale': 'global', 'active': True, 'currency_symbol': 'USD', 'currency_name': 'United States Dollar', 'base_currency_symbol': 'ADA', 'base_currency_name': 'Cardano', 'last_updated_utc': '2017-01-01T00:00:00Z'}, {'ticker': 'X:ALBTUSD', 'name': 'AllianceBlock - United States Dollar', 'market': 'crypto', 'locale': 'global', 'active': True, 'currency_symbol': 'USD', 'currency_name': 'United States Dollar', 'base_currency_symbol': 'ALBT', 'base_currency_name': 'AllianceBlock', 'last_updated_utc': '2017-01-01T00:00:00Z'}, {'ticker': 'X:ALCXUSD', 'name': 'Alchemix - United States Dollar', 'market': 'crypto', 'locale': 'global', 'active': True, 'currency_symbol': 'USD', 'currency_name': 'United States Dollar', 'base_currency_symbol': 'ALCX', 'base_currency_name': 'Alchemix', 'last_updated_utc': '2017-01-01T00:00:00Z'}, {'ticker': 'X:ALGOUSD', 'name': 'Algorand - United States Dollar', 'market': 'crypto', 'locale': 'global', 'active': True, 'currency_symbol': 'USD', 'currency_name': 'United States Dollar', 'base_currency_symbol': 'ALGO', 'base_currency_name': 'Algorand', 'last_updated_utc': '2017-01-01T00:00:00Z'}, {'ticker': 'X:ALICEUSD', 'name': 'MyNeighborAlice - United States Dollar', 'market': 'crypto', 'locale': 'global', 'active': True, 'currency_symbol': 'USD', 'currency_name': 'United States Dollar', 'base_currency_symbol': 'ALICE', 'base_currency_name': 'MyNeighborAlice', 'last_updated_utc': '2017-01-01T00:00:00Z'}, {'ticker': 'X:AMPUSD', 'name': 'Amp - United States Dollar', 'market': 'crypto', 'locale': 'global', 'active': True, 'currency_symbol': 'USD', 'currency_name': 'United States Dollar', 'base_currency_symbol': 'AMP', 'base_currency_name': 'Amp', 'last_updated_utc': '2017-01-01T00:00:00Z'}, {'ticker': 'X:ANKRUSD', 'name': 'Ankr - United States Dollar', 'market': 'crypto', 'locale': 'global', 'active': True, 'currency_symbol': 'USD', 'currency_name': 'United States Dollar', 'base_currency_symbol': 'ANKR', 'base_currency_name': 'Ankr', 'last_updated_utc': '2017-01-01T00:00:00Z'}, {'ticker': 'X:ANTUSD', 'name': 'Aragon - United States Dollar', 'market': 'crypto', 'locale': 'global', 'active': True, 'currency_symbol': 'USD', 'currency_name': 'United States Dollar', 'base_currency_symbol': 'ANT', 'base_currency_name': 'Aragon', 'last_updated_utc': '2017-01-01T00:00:00Z'}, {'ticker': 'X:APEUSD', 'name': 'ApeCoin - United States Dollar', 'market': 'crypto', 'locale': 'global', 'active': True, 'currency_symbol': 'USD', 'currency_name': 'United States Dollar', 'base_currency_symbol': 'APE', 'base_currency_name': 'ApeCoin', 'last_updated_utc': '2017-01-01T00:00:00Z'}, {'ticker': 'X:API3USD', 'name': 'API3 - United States Dollar', 'market': 'crypto', 'locale': 'global', 'active': True, 'currency_symbol': 'USD', 'currency_name': 'United States Dollar', 'base_currency_symbol': 'API3', 'base_currency_name': 'API3', 'last_updated_utc': '2017-01-01T00:00:00Z'}, {'ticker': 'X:ARPAUSD', 'name': 'ARPA Chain - United States Dollar', 'market': 'crypto', 'locale': 'global', 'active': True, 'currency_symbol': 'USD', 'currency_name': 'United States Dollar', 'base_currency_symbol': 'ARPA', 'base_currency_name': 'ARPA Chain', 'last_updated_utc': '2017-01-01T00:00:00Z'}, {'ticker': 'X:ASMUSD', 'name': 'Assemble Protocol - United States Dollar', 'market': 'crypto', 'locale': 'global', 'active': True, 'currency_symbol': 'USD', 'currency_name': 'United States Dollar', 'base_currency_symbol': 'ASM', 'base_currency_name': 'Assemble Protocol', 'last_updated_utc': '2017-01-01T00:00:00Z'}, {'ticker': 'X:ATOMUSD', 'name': 'Cosmos - United States Dollar', 'market': 'crypto', 'locale': 'global', 'active': True, 'currency_symbol': 'USD', 'currency_name': 'United States Dollar', 'base_currency_symbol': 'ATOM', 'base_currency_name': 'Cosmos', 'last_updated_utc': '2017-01-01T00:00:00Z'}, {'ticker': 'X:AUCTIONUSD', 'name': 'Bounce Token - United States Dollar', 'market': 'crypto', 'locale': 'global', 'active': True, 'currency_symbol': 'USD', 'currency_name': 'United States Dollar', 'base_currency_symbol': 'AUCTION', 'base_currency_name': 'Bounce Token', 'last_updated_utc': '2017-01-01T00:00:00Z'}, {'ticker': 'X:AVAXUSD', 'name': 'Avalanche - United States Dollar', 'market': 'crypto', 'locale': 'global', 'active': True, 'currency_symbol': 'USD', 'currency_name': 'United States Dollar', 'base_currency_symbol': 'AVAX', 'base_currency_name': 'Avalanche', 'last_updated_utc': '2017-01-01T00:00:00Z'}, {'ticker': 'X:AVTUSD', 'name': 'Aventus - United States Dollar', 'market': 'crypto', 'locale': 'global', 'active': True, 'currency_symbol': 'USD', 'currency_name': 'United States Dollar', 'base_currency_symbol': 'AVT', 'base_currency_name': 'Aventus', 'last_updated_utc': '2017-01-01T00:00:00Z'}, {'ticker': 'X:AXSUSD', 'name': 'Axie Infinity - United States Dollar', 'market': 'crypto', 'locale': 'global', 'active': True, 'currency_symbol': 'USD', 'currency_name': 'United States Dollar', 'base_currency_symbol': 'AXS', 'base_currency_name': 'Axie Infinity', 'last_updated_utc': '2017-01-01T00:00:00Z'}, {'ticker': 'X:BADGERUSD', 'name': 'Badger Dao - United States Dollar', 'market': 'crypto', 'locale': 'global', 'active': True, 'currency_symbol': 'USD', 'currency_name': 'United States Dollar', 'base_currency_symbol': 'BADGER', 'base_currency_name': 'Badger Dao', 'last_updated_utc': '2017-01-01T00:00:00Z'}, {'ticker': 'X:BALUSD', 'name': 'Balancer - United States Dollar', 'market': 'crypto', 'locale': 'global', 'active': True, 'currency_symbol': 'USD', 'currency_name': 'United States Dollar', 'base_currency_symbol': 'BAL', 'base_currency_name': 'Balancer', 'last_updated_utc': '2017-01-01T00:00:00Z'}, {'ticker': 'X:BANDUSD', 'name': 'Band Protocol - United States Dollar', 'market': 'crypto', 'locale': 'global', 'active': True, 'currency_symbol': 'USD', 'currency_name': 'United States Dollar', 'base_currency_symbol': 'BAND', 'base_currency_name': 'Band Protocol', 'last_updated_utc': '2017-01-01T00:00:00Z'}, {'ticker': 'X:BATUSD', 'name': 'Basic Attention Token - United States Dollar', 'market': 'crypto', 'locale': 'global', 'active': True, 'currency_symbol': 'USD', 'currency_name': 'United States Dollar', 'base_currency_symbol': 'BAT', 'base_currency_name': 'Basic Attention Token', 'last_updated_utc': '2017-01-01T00:00:00Z'}, {'ticker': 'X:BCHEUR', 'name': 'Bitcoin Cash - Euro', 'market': 'crypto', 'locale': 'global', 'active': True, 'currency_symbol': 'EUR', 'currency_name': 'Euro', 'base_currency_symbol': 'BCH', 'base_currency_name': 'Bitcoin Cash', 'last_updated_utc': '2017-01-01T00:00:00Z'}, {'ticker': 'X:BCHGBP', 'name': 'Bitcoin Cash - Great Britian Pound', 'market': 'crypto', 'locale': 'global', 'active': True, 'currency_symbol': 'GBP', 'currency_name': 'Great Britian Pound', 'base_currency_symbol': 'BCH', 'base_currency_name': 'Bitcoin Cash', 'last_updated_utc': '2017-01-01T00:00:00Z'}, {'ticker': 'X:BCHUSD', 'name': 'Bitcoin Cash - United States Dollar', 'market': 'crypto', 'locale': 'global', 'active': True, 'currency_symbol': 'USD', 'currency_name': 'United States Dollar', 'base_currency_symbol': 'BCH', 'base_currency_name': 'Bitcoin Cash', 'last_updated_utc': '2017-01-01T00:00:00Z'}, {'ticker': 'X:BFTUSD', 'name': 'BnkToTheFuture - United States Dollar', 'market': 'crypto', 'locale': 'global', 'active': True, 'currency_symbol': 'USD', 'currency_name': 'United States Dollar', 'base_currency_symbol': 'BFT', 'base_currency_name': 'BnkToTheFuture', 'last_updated_utc': '2017-01-01T00:00:00Z'}, {'ticker': 'X:BNTUSD', 'name': 'Bancor - United States Dollar', 'market': 'crypto', 'locale': 'global', 'active': True, 'currency_symbol': 'USD', 'currency_name': 'United States Dollar', 'base_currency_symbol': 'BNT', 'base_currency_name': 'Bancor', 'last_updated_utc': '2017-01-01T00:00:00Z'}, {'ticker': 'X:BOBAUSD', 'name': 'Boba Network - United States Dollar', 'market': 'crypto', 'locale': 'global', 'active': True, 'currency_symbol': 'USD', 'currency_name': 'United States Dollar', 'base_currency_symbol': 'BOBA', 'base_currency_name': 'Boba Network', 'last_updated_utc': '2017-01-01T00:00:00Z'}, {'ticker': 'X:BONDUSD', 'name': 'BarnBridge - United States Dollar', 'market': 'crypto', 'locale': 'global', 'active': True, 'currency_symbol': 'USD', 'currency_name': 'United States Dollar', 'base_currency_symbol': 'BOND', 'base_currency_name': 'BarnBridge', 'last_updated_utc': '2017-01-01T00:00:00Z'}, {'ticker': 'X:BOSONUSD', 'name': 'Boson Protocol - United States Dollar', 'market': 'crypto', 'locale': 'global', 'active': True, 'currency_symbol': 'USD', 'currency_name': 'United States Dollar', 'base_currency_symbol': 'BOSON', 'base_currency_name': 'Boson Protocol', 'last_updated_utc': '2017-01-01T00:00:00Z'}, {'ticker': 'X:BSVUSD', 'name': 'Bitcoin SV - United States Dollar', 'market': 'crypto', 'locale': 'global', 'active': True, 'currency_symbol': 'USD', 'currency_name': 'United States Dollar', 'base_currency_symbol': 'BSV', 'base_currency_name': 'Bitcoin SV', 'last_updated_utc': '2017-01-01T00:00:00Z'}, {'ticker': 'X:BTCAUD', 'name': 'Bitcoin - Australian Dollar', 'market': 'crypto', 'locale': 'global', 'active': True, 'currency_symbol': 'AUD', 'currency_name': 'Australian Dollar', 'base_currency_symbol': 'BTC', 'base_currency_name': 'Bitcoin', 'last_updated_utc': '2017-01-01T00:00:00Z'}, {'ticker': 'X:BTCEUR', 'name': 'Bitcoin - Euro', 'market': 'crypto', 'locale': 'global', 'active': True, 'currency_symbol': 'EUR', 'currency_name': 'Euro', 'base_currency_symbol': 'BTC', 'base_currency_name': 'Bitcoin', 'last_updated_utc': '2017-01-01T00:00:00Z'}, {'ticker': 'X:BTCGBP', 'name': 'Bitcoin - Great Britain Pound', 'market': 'crypto', 'locale': 'global', 'active': True, 'currency_symbol': 'GBP', 'currency_name': 'Great Britain Pound', 'base_currency_symbol': 'BTC', 'base_currency_name': 'Bitcoin', 'last_updated_utc': '2017-01-01T00:00:00Z'}, {'ticker': 'X:BTCJPY', 'name': 'Bitcoin - Japanese Yen', 'market': 'crypto', 'locale': 'global', 'active': True, 'currency_symbol': 'JPY', 'currency_name': 'Japanese Yen', 'base_currency_symbol': 'BTC', 'base_currency_name': 'Bitcoin', 'last_updated_utc': '2017-01-01T00:00:00Z'}, {'ticker': 'X:BTCUSD', 'name': 'Bitcoin - United States Dollar', 'market': 'crypto', 'locale': 'global', 'active': True, 'currency_symbol': 'USD', 'currency_name': 'United States Dollar', 'base_currency_symbol': 'BTC', 'base_currency_name': 'Bitcoin', 'last_updated_utc': '2017-01-01T00:00:00Z'}, {'ticker': 'X:BTGUSD', 'name': 'Bitcoin Gold - United States Dollar', 'market': 'crypto', 'locale': 'global', 'active': True, 'currency_symbol': 'USD', 'currency_name': 'United States Dollar', 'base_currency_symbol': 'BTG', 'base_currency_name': 'Bitcoin Gold', 'last_updated_utc': '2017-01-01T00:00:00Z'}, {'ticker': 'X:BTRSTUSD', 'name': 'Braintrust - United States Dollar', 'market': 'crypto', 'locale': 'global', 'active': True, 'currency_symbol': 'USD', 'currency_name': 'United States Dollar', 'base_currency_symbol': 'BTRST', 'base_currency_name': 'Braintrust', 'last_updated_utc': '2017-01-01T00:00:00Z'}, {'ticker': 'X:BTSEUSD', 'name': 'BTSE - United States Dollar', 'market': 'crypto', 'locale': 'global', 'active': True, 'currency_symbol': 'USD', 'currency_name': 'United States Dollar', 'base_currency_symbol': 'BTSE', 'base_currency_name': 'BTSE', 'last_updated_utc': '2017-01-01T00:00:00Z'}, {'ticker': 'X:BTTUSD', 'name': 'BitTorrent - United States Dollar', 'market': 'crypto', 'locale': 'global', 'active': True, 'currency_symbol': 'USD', 'currency_name': 'United States Dollar', 'base_currency_symbol': 'BTT', 'base_currency_name': 'BitTorrent', 'last_updated_utc': '2017-01-01T00:00:00Z'}, {'ticker': 'X:C98USD', 'name': 'Coin98 - United States Dollar', 'market': 'crypto', 'locale': 'global', 'active': True, 'currency_symbol': 'USD', 'currency_name': 'United States Dollar', 'base_currency_symbol': 'C98', 'base_currency_name': 'Coin98', 'last_updated_utc': '2017-01-01T00:00:00Z'}, {'ticker': 'X:CELUSD', 'name': 'Celsius - United States Dollar', 'market': 'crypto', 'locale': 'global', 'active': True, 'currency_symbol': 'USD', 'currency_name': 'United States Dollar', 'base_currency_symbol': 'CEL', 'base_currency_name': 'Celsius', 'last_updated_utc': '2017-01-01T00:00:00Z'}, {'ticker': 'X:CGLDUSD', 'name': 'Celo - United States Dollar', 'market': 'crypto', 'locale': 'global', 'active': True, 'currency_symbol': 'USD', 'currency_name': 'United States Dollar', 'base_currency_symbol': 'CGLD', 'base_currency_name': 'Celo', 'last_updated_utc': '2017-01-01T00:00:00Z'}, {'ticker': 'X:CHSBUSD', 'name': 'SwissBorg - United States Dollar', 'market': 'crypto', 'locale': 'global', 'active': True, 'currency_symbol': 'USD', 'currency_name': 'United States Dollar', 'base_currency_symbol': 'CHSB', 'base_currency_name': 'SwissBorg', 'last_updated_utc': '2017-01-01T00:00:00Z'}, {'ticker': 'X:CHZUSD', 'name': 'Chiliz - United States Dollar', 'market': 'crypto', 'locale': 'global', 'active': True, 'currency_symbol': 'USD', 'currency_name': 'United States Dollar', 'base_currency_symbol': 'CHZ', 'base_currency_name': 'Chiliz', 'last_updated_utc': '2017-01-01T00:00:00Z'}, {'ticker': 'X:CLOUSD', 'name': 'Callisto - United States Dollar', 'market': 'crypto', 'locale': 'global', 'active': True, 'currency_symbol': 'USD', 'currency_name': 'United States Dollar', 'base_currency_symbol': 'CLO', 'base_currency_name': 'Callisto', 'last_updated_utc': '2017-01-01T00:00:00Z'}, {'ticker': 'X:CLVUSD', 'name': 'Clover Finance - United States Dollar', 'market': 'crypto', 'locale': 'global', 'active': True, 'currency_symbol': 'USD', 'currency_name': 'United States Dollar', 'base_currency_symbol': 'CLV', 'base_currency_name': 'Clover Finance', 'last_updated_utc': '2017-01-01T00:00:00Z'}, {'ticker': 'X:COMPUSD', 'name': 'Compound - United States Dollar', 'market': 'crypto', 'locale': 'global', 'active': True, 'currency_symbol': 'USD', 'currency_name': 'United States Dollar', 'base_currency_symbol': 'COMP', 'base_currency_name': 'Compound', 'last_updated_utc': '2017-01-01T00:00:00Z'}, {'ticker': 'X:COTIUSD', 'name': 'Coti - United States Dollar', 'market': 'crypto', 'locale': 'global', 'active': True, 'currency_symbol': 'USD', 'currency_name': 'United States Dollar', 'base_currency_symbol': 'COTI', 'base_currency_name': 'Coti', 'last_updated_utc': '2017-01-01T00:00:00Z'}, {'ticker': 'X:COVALUSD', 'name': 'Circuits of Value - United States Dollar', 'market': 'crypto', 'locale': 'global', 'active': True, 'currency_symbol': 'USD', 'currency_name': 'United States Dollar', 'base_currency_symbol': 'COVAL', 'base_currency_name': 'Circuits of Value', 'last_updated_utc': '2017-01-01T00:00:00Z'}, {'ticker': 'X:CROUSD', 'name': 'Crypto.com - United States Dollar', 'market': 'crypto', 'locale': 'global', 'active': True, 'currency_symbol': 'USD', 'currency_name': 'United States Dollar', 'base_currency_symbol': 'CRO', 'base_currency_name': 'Crypto.com', 'last_updated_utc': '2017-01-01T00:00:00Z'}, {'ticker': 'X:CRPTUSD', 'name': 'Crypterium - United States Dollar', 'market': 'crypto', 'locale': 'global', 'active': True, 'currency_symbol': 'USD', 'currency_name': 'United States Dollar', 'base_currency_symbol': 'CRPT', 'base_currency_name': 'Crypterium', 'last_updated_utc': '2017-01-01T00:00:00Z'}, {'ticker': 'X:CRVUSD', 'name': 'Curve DAO Token - United States Dollar', 'market': 'crypto', 'locale': 'global', 'active': True, 'currency_symbol': 'USD', 'currency_name': 'United States Dollar', 'base_currency_symbol': 'CRV', 'base_currency_name': 'Curve DAO Token', 'last_updated_utc': '2017-01-01T00:00:00Z'}, {'ticker': 'X:CSMUSD', 'name': 'Consentium - United States Dollar', 'market': 'crypto', 'locale': 'global', 'active': True, 'currency_symbol': 'USD', 'currency_name': 'United States Dollar', 'base_currency_symbol': 'CSM', 'base_currency_name': 'Consentium', 'last_updated_utc': '2017-01-01T00:00:00Z'}, {'ticker': 'X:CTSIUSD', 'name': 'Cartesi - United States Dollar', 'market': 'crypto', 'locale': 'global', 'active': True, 'currency_symbol': 'USD', 'currency_name': 'United States Dollar', 'base_currency_symbol': 'CTSI', 'base_currency_name': 'Cartesi', 'last_updated_utc': '2017-01-01T00:00:00Z'}, {'ticker': 'X:CVCUSD', 'name': 'Civic - United States Dollar', 'market': 'crypto', 'locale': 'global', 'active': True, 'currency_symbol': 'USD', 'currency_name': 'United States Dollar', 'base_currency_symbol': 'CVC', 'base_currency_name': 'Civic', 'last_updated_utc': '2017-01-01T00:00:00Z'}, {'ticker': 'X:CVXUSD', 'name': 'Convex Finance - United States Dollar', 'market': 'crypto', 'locale': 'global', 'active': True, 'currency_symbol': 'USD', 'currency_name': 'United States Dollar', 'base_currency_symbol': 'CVX', 'base_currency_name': 'Convex Finance', 'last_updated_utc': '2017-01-01T00:00:00Z'}, {'ticker': 'X:DAIUSD', 'name': 'Dai - United States Dollar', 'market': 'crypto', 'locale': 'global', 'active': True, 'currency_symbol': 'USD', 'currency_name': 'United States Dollar', 'base_currency_symbol': 'DAI', 'base_currency_name': 'Dai', 'last_updated_utc': '2017-01-01T00:00:00Z'}, {'ticker': 'X:DASHUSD', 'name': 'Dash - United States Dollar', 'market': 'crypto', 'locale': 'global', 'active': True, 'currency_symbol': 'USD', 'currency_name': 'United States Dollar', 'base_currency_symbol': 'DASH', 'base_currency_name': 'Dash', 'last_updated_utc': '2017-01-01T00:00:00Z'}, {'ticker': 'X:DDXUSD', 'name': 'DerivaDAO - United States Dollar', 'market': 'crypto', 'locale': 'global', 'active': True, 'currency_symbol': 'USD', 'currency_name': 'United States Dollar', 'base_currency_symbol': 'DDX', 'base_currency_name': 'DerivaDAO', 'last_updated_utc': '2017-01-01T00:00:00Z'}, {'ticker': 'X:DGBUSD', 'name': 'DigiByte - United States Dollar', 'market': 'crypto', 'locale': 'global', 'active': True, 'currency_symbol': 'USD', 'currency_name': 'United States Dollar', 'base_currency_symbol': 'DGB', 'base_currency_name': 'DigiByte', 'last_updated_utc': '2017-01-01T00:00:00Z'}, {'ticker': 'X:DNYUSD', 'name': 'District0x - United States Dollar', 'market': 'crypto', 'locale': 'global', 'active': True, 'currency_symbol': 'USD', 'currency_name': 'United States Dollar', 'base_currency_symbol': 'DNT', 'base_currency_name': 'District0x', 'last_updated_utc': '2017-01-01T00:00:00Z'}, {'ticker': 'X:DOGEUSD', 'name': 'Dogecoin - United States Dollar', 'market': 'crypto', 'locale': 'global', 'active': True, 'currency_symbol': 'USD', 'currency_name': 'United States Dollar', 'base_currency_symbol': 'DOGE', 'base_currency_name': 'Dogecoin', 'last_updated_utc': '2017-01-01T00:00:00Z'}, {'ticker': 'X:DOTUSD', 'name': 'Polkadot - United States Dollar', 'market': 'crypto', 'locale': 'global', 'active': True, 'currency_symbol': 'USD', 'currency_name': 'United States Dollar', 'base_currency_symbol': 'DOT', 'base_currency_name': 'Polkadot', 'last_updated_utc': '2017-01-01T00:00:00Z'}, {'ticker': 'X:DSHUSD', 'name': 'Dash - United States Dollar', 'market': 'crypto', 'locale': 'global', 'active': True, 'currency_symbol': 'USD', 'currency_name': 'United States Dollar', 'base_currency_symbol': 'DSH', 'base_currency_name': 'Dash', 'last_updated_utc': '2017-01-01T00:00:00Z'}, {'ticker': 'X:DUSKUSD', 'name': 'Dusk Network - United States Dollar', 'market': 'crypto', 'locale': 'global', 'active': True, 'currency_symbol': 'USD', 'currency_name': 'United States Dollar', 'base_currency_symbol': 'DUSK', 'base_currency_name': 'Dusk Network', 'last_updated_utc': '2017-01-01T00:00:00Z'}, {'ticker': 'X:DVFUSD', 'name': 'DeversiFi - United States Dollar', 'market': 'crypto', 'locale': 'global', 'active': True, 'currency_symbol': 'USD', 'currency_name': 'United States Dollar', 'base_currency_symbol': 'DVF', 'base_currency_name': 'DeversiFi', 'last_updated_utc': '2017-01-01T00:00:00Z'}, {'ticker': 'X:DYDXEUR', 'name': 'dYdX - Euro', 'market': 'crypto', 'locale': 'global', 'active': True, 'currency_symbol': 'EUR', 'currency_name': 'Euro', 'base_currency_symbol': 'DYDX', 'base_currency_name': 'dYdX', 'last_updated_utc': '2017-01-01T00:00:00Z'}, {'ticker': 'X:DYDXUSD', 'name': 'dYdX - United States Dollar', 'market': 'crypto', 'locale': 'global', 'active': True, 'currency_symbol': 'USD', 'currency_name': 'United States Dollar', 'base_currency_symbol': 'DYDX', 'base_currency_name': 'dYdX', 'last_updated_utc': '2017-01-01T00:00:00Z'}, {'ticker': 'X:EDOUSD', 'name': 'Eidoo - United States Dollar', 'market': 'crypto', 'locale': 'global', 'active': True, 'currency_symbol': 'USD', 'currency_name': 'United States Dollar', 'base_currency_symbol': 'EDO', 'base_currency_name': 'Eidoo', 'last_updated_utc': '2017-01-01T00:00:00Z'}, {'ticker': 'X:EGLDUSD', 'name': 'Elrond - United States Dollar', 'market': 'crypto', 'locale': 'global', 'active': True, 'currency_symbol': 'USD', 'currency_name': 'United States Dollar', 'base_currency_symbol': 'EGLD', 'base_currency_name': 'Elrond', 'last_updated_utc': '2017-01-01T00:00:00Z'}, {'ticker': 'X:ELAUSD', 'name': 'Elastos - United States Dollar', 'market': 'crypto', 'locale': 'global', 'active': True, 'currency_symbol': 'USD', 'currency_name': 'United States Dollar', 'base_currency_symbol': 'ELA', 'base_currency_name': 'Elastos', 'last_updated_utc': '2017-01-01T00:00:00Z'}, {'ticker': 'X:ENJUSD', 'name': 'Enjin Coin - United States Dollar', 'market': 'crypto', 'locale': 'global', 'active': True, 'currency_symbol': 'USD', 'currency_name': 'United States Dollar', 'base_currency_symbol': 'ENJ', 'base_currency_name': 'Enjin Coin', 'last_updated_utc': '2017-01-01T00:00:00Z'}, {'ticker': 'X:EOSUSD', 'name': 'EOS - United States Dollar', 'market': 'crypto', 'locale': 'global', 'active': True, 'currency_symbol': 'USD', 'currency_name': 'United States Dollar', 'base_currency_symbol': 'EOS', 'base_currency_name': 'EOS', 'last_updated_utc': '2017-01-01T00:00:00Z'}, {'ticker': 'X:ETCUSD', 'name': 'Ethereum Classic - United States Dollar', 'market': 'crypto', 'locale': 'global', 'active': True, 'currency_symbol': 'USD', 'currency_name': 'United States Dollar', 'base_currency_symbol': 'ETC', 'base_currency_name': 'Ethereum Classic', 'last_updated_utc': '2017-01-01T00:00:00Z'}, {'ticker': 'X:ETHAUD', 'name': 'Ethereum - Australian dollar', 'market': 'crypto', 'locale': 'global', 'active': True, 'currency_symbol': 'AUD', 'currency_name': 'Australian dollar', 'base_currency_symbol': 'ETH', 'base_currency_name': 'Ethereum', 'last_updated_utc': '2017-01-01T00:00:00Z'}, {'ticker': 'X:ETHBTC', 'name': 'Ethereum - Bitcoin', 'market': 'crypto', 'locale': 'global', 'active': True, 'currency_symbol': 'BTC', 'currency_name': 'Bitcoin', 'base_currency_symbol': 'ETH', 'base_currency_name': 'Ethereum', 'last_updated_utc': '2017-01-01T00:00:00Z'}, {'ticker': 'X:ETHUSD', 'name': 'Ethereum - United States Dollar', 'market': 'crypto', 'locale': 'global', 'active': True, 'currency_symbol': 'USD', 'currency_name': 'United States Dollar', 'base_currency_symbol': 'ETH', 'base_currency_name': 'Ethereum', 'last_updated_utc': '2017-01-01T00:00:00Z'}, {'ticker': 'X:ETPUSD', 'name': 'Metaverse - United States Dollar', 'market': 'crypto', 'locale': 'global', 'active': True, 'currency_symbol': 'USD', 'currency_name': 'United States Dollar', 'base_currency_symbol': 'ETP', 'base_currency_name': 'Metaverse', 'last_updated_utc': '2017-01-01T00:00:00Z'}, {'ticker': 'X:FARMUSD', 'name': 'Harvest Finance - United States Dollar', 'market': 'crypto', 'locale': 'global', 'active': True, 'currency_symbol': 'USD', 'currency_name': 'United States Dollar', 'base_currency_symbol': 'FARM', 'base_currency_name': 'Harvest Finance', 'last_updated_utc': '2017-01-01T00:00:00Z'}, {'ticker': 'X:FCLUSD', 'name': 'Fractal - United States Dollar', 'market': 'crypto', 'locale': 'global', 'active': True, 'currency_symbol': 'USD', 'currency_name': 'United States Dollar', 'base_currency_symbol': 'FCL', 'base_currency_name': 'Fractal', 'last_updated_utc': '2017-01-01T00:00:00Z'}, {'ticker': 'X:FETUSD', 'name': 'Fetch.ai - United States Dollar', 'market': 'crypto', 'locale': 'global', 'active': True, 'currency_symbol': 'USD', 'currency_name': 'United States Dollar', 'base_currency_symbol': 'FET', 'base_currency_name': 'Fetch.ai', 'last_updated_utc': '2017-01-01T00:00:00Z'}, {'ticker': 'X:FILUSD', 'name': 'Filecoin - United States Dollar', 'market': 'crypto', 'locale': 'global', 'active': True, 'currency_symbol': 'USD', 'currency_name': 'United States Dollar', 'base_currency_symbol': 'FIL', 'base_currency_name': 'Filecoin', 'last_updated_utc': '2017-01-01T00:00:00Z'}, {'ticker': 'X:FISUSD', 'name': 'StaFi Protocol - United States Dollar', 'market': 'crypto', 'locale': 'global', 'active': True, 'currency_symbol': 'USD', 'currency_name': 'United States Dollar', 'base_currency_symbol': 'FIS', 'base_currency_name': 'StaFi Protocol', 'last_updated_utc': '2017-01-01T00:00:00Z'}, {'ticker': 'X:FLOWUSD', 'name': 'Flow - United States Dollar', 'market': 'crypto', 'locale': 'global', 'active': True, 'currency_symbol': 'USD', 'currency_name': 'United States Dollar', 'base_currency_symbol': 'FLOW', 'base_currency_name': 'Flow', 'last_updated_utc': '2017-01-01T00:00:00Z'}, {'ticker': 'X:FORTHUSD', 'name': 'Ampleforth Governance Token - United States Dollar', 'market': 'crypto', 'locale': 'global', 'active': True, 'currency_symbol': 'USD', 'currency_name': 'United States Dollar', 'base_currency_symbol': 'FORTH', 'base_currency_name': 'Ampleforth Governance Token', 'last_updated_utc': '2017-01-01T00:00:00Z'}, {'ticker': 'X:FOXUSD', 'name': 'Shapeshift FOX Token - United States Dollar', 'market': 'crypto', 'locale': 'global', 'active': True, 'currency_symbol': 'USD', 'currency_name': 'United States Dollar', 'base_currency_symbol': 'FOX', 'base_currency_name': 'Shapeshift FOX Token', 'last_updated_utc': '2017-01-01T00:00:00Z'}, {'ticker': 'X:FTMUSD', 'name': 'Fantom - United States Dollar', 'market': 'crypto', 'locale': 'global', 'active': True, 'currency_symbol': 'USD', 'currency_name': 'United States Dollar', 'base_currency_symbol': 'FTM', 'base_currency_name': 'Fantom', 'last_updated_utc': '2017-01-01T00:00:00Z'}, {'ticker': 'X:FTTUSD', 'name': 'FTX Token - United States Dollar', 'market': 'crypto', 'locale': 'global', 'active': True, 'currency_symbol': 'USD', 'currency_name': 'United States Dollar', 'base_currency_symbol': 'FTT', 'base_currency_name': 'FTX Token', 'last_updated_utc': '2017-01-01T00:00:00Z'}, {'ticker': 'X:FUNUSD', 'name': 'FunFair - United States Dollar', 'market': 'crypto', 'locale': 'global', 'active': True, 'currency_symbol': 'USD', 'currency_name': 'United States Dollar', 'base_currency_symbol': 'FUN', 'base_currency_name': 'FunFair', 'last_updated_utc': '2017-01-01T00:00:00Z'}, {'ticker': 'X:FXUSD', 'name': 'Function X - United States Dollar', 'market': 'crypto', 'locale': 'global', 'active': True, 'currency_symbol': 'USD', 'currency_name': 'United States Dollar', 'base_currency_symbol': 'FX', 'base_currency_name': 'Function X', 'last_updated_utc': '2017-01-01T00:00:00Z'}, {'ticker': 'X:GALAUSD', 'name': 'Gala Games - United States Dollar', 'market': 'crypto', 'locale': 'global', 'active': True, 'currency_symbol': 'USD', 'currency_name': 'United States Dollar', 'base_currency_symbol': 'GALA', 'base_currency_name': 'Gala Games', 'last_updated_utc': '2017-01-01T00:00:00Z'}, {'ticker': 'X:GHSTUSD', 'name': 'Aavegotchi - United States Dollar', 'market': 'crypto', 'locale': 'global', 'active': True, 'currency_symbol': 'USD', 'currency_name': 'United States Dollar', 'base_currency_symbol': 'GHST', 'base_currency_name': 'Aavegotchi', 'last_updated_utc': '2017-01-01T00:00:00Z'}, {'ticker': 'X:GLMUSD', 'name': 'Golem - United States Dollar', 'market': 'crypto', 'locale': 'global', 'active': True, 'currency_symbol': 'USD', 'currency_name': 'United States Dollar', 'base_currency_symbol': 'GLM', 'base_currency_name': 'Golem', 'last_updated_utc': '2017-01-01T00:00:00Z'}, {'ticker': 'X:GNOUSD', 'name': 'Gnosis - United States Dollar', 'market': 'crypto', 'locale': 'global', 'active': True, 'currency_symbol': 'USD', 'currency_name': 'United States Dollar', 'base_currency_symbol': 'GNO', 'base_currency_name': 'Gnosis', 'last_updated_utc': '2017-01-01T00:00:00Z'}, {'ticker': 'X:GNTUSD', 'name': 'Golem - United States Dollar', 'market': 'crypto', 'locale': 'global', 'active': True, 'currency_symbol': 'USD', 'currency_name': 'United States Dollar', 'base_currency_symbol': 'GNT', 'base_currency_name': 'Golem', 'last_updated_utc': '2017-01-01T00:00:00Z'}, {'ticker': 'X:GRTUSD', 'name': 'The Graph - United States Dollar', 'market': 'crypto', 'locale': 'global', 'active': True, 'currency_symbol': 'USD', 'currency_name': 'United States Dollar', 'base_currency_symbol': 'GRT', 'base_currency_name': 'The Graph', 'last_updated_utc': '2017-01-01T00:00:00Z'}, {'ticker': 'X:GTCUSD', 'name': 'Gitcoin - United States Dollar', 'market': 'crypto', 'locale': 'global', 'active': True, 'currency_symbol': 'USD', 'currency_name': 'United States Dollar', 'base_currency_symbol': 'GTC', 'base_currency_name': 'Gitcoin', 'last_updated_utc': '2017-01-01T00:00:00Z'}], 'status': 'OK', 'request_id': 'd046a7a5b67d263870f32275691481e4', 'count': 100, 'next_url': 'https://api.polygon.io/v3/reference/tickers?cursor=YWN0aXZlPXRydWUmYXA9WCUzQUdUQ1VTRCU3Q2VmNTMwMTQ4OTNhNmYxOGFiZjk2NDVmMWI4NDgzZTQ1ZTcyY2IwNjkyNTMzNjUzMzQ0NmNhN2NjM2U3ZWUyZDUmYXM9JmRhdGU9MjAyNC0wMS0yNyZsaW1pdD0xMDAmbWFya2V0PWNyeXB0byZvcmRlcj1hc2Mmc29ydD10aWNrZXI'}\n"
     ]
    }
   ],
   "source": [
    "import requests\n",
    "\n",
    "response = requests.get(\"https://api.polygon.io/v3/reference/tickers?market=crypto&active=true&apiKey=wW55pKJzExsThjPDizKdf8OAdDfkvLPW\")\n",
    "response_json = response.json()\n",
    "print(response_json)"
   ]
  },
  {
   "cell_type": "code",
   "execution_count": 25,
   "metadata": {},
   "outputs": [
    {
     "name": "stdout",
     "output_type": "stream",
     "text": [
      "Applied Finance Valuation Large Cap ETF|VSLU\n",
      "RSE ARCHIVE  APPLE1 1976|RSSPS\n",
      "APPLE RUSH COMP INC|APRU\n",
      "SCIENCE APPLICATIONS INTERNATIONAL CORPORATION|SAIC\n",
      "APPLIQATE INC|APQT\n",
      "RSE ARCHIVE APPLE PROTOTY|REAOS\n",
      "APPLIED BIOSCIENCES CORP|APPB\n",
      "VXAPL (Cboe APPLE VIX)|I:VXAPL\n",
      "Applied Industrial Technologies, Inc.|AIT\n",
      "APPLUS SVCS S A|APLUF\n",
      "Applied DNA Sciences, Inc.|APDN\n",
      "Kurv Yield Premium Strategy Apple (AAPL) ETF|AAPY\n",
      "RSE ARCHIVE APPLE IPOD|REAYS\n",
      "APPLIED ENERGETIC PFD A|AERGP\n",
      "Apple Inc.|AAPL\n",
      "Apple Hospitality REIT, Inc.|APLE\n",
      "Intelligent Living Application Group Inc. Ordinary Shares|ILAG\n",
      "Applied Therapeutics, Inc. Common Stock|APLT\n",
      "Applied UV, Inc. 10.5% Series A Cumulative Perpetual Preferred Stock, $0.0001 par value per share|AUVIP\n",
      "Applied Materials Inc|AMAT\n",
      "GOLDEN APPLE OIL&GAS INC|GAPJ\n",
      "SINCERITY APPLIED MAT CP|SINC\n",
      "APPLIED ENERGETICS INC|AERG\n",
      "UMBRA APPLIED TECHS GROUP|UATG\n",
      "APPLIED VISUAL SCI INC|APVS\n",
      "RSE ARCHIVE APPLE LISA|REAPS\n",
      "Applovin Corporation Class A Common Stock|APP\n",
      "APPLIED DEV HLDGS LTD ORD|ADHLF\n",
      "APPLIFE DIGITAL SOLUTIONS|ALDS\n",
      "T-Rex 2X Long Apple Daily Target ETF|AAPX\n",
      "APPLIED DNA SCNCS WT 24|APPDW\n",
      "APPLIED MINERALS INC|AMNL\n",
      "Applied Optoelectronics, Inc.|AAOI\n",
      "Applied Digital Corporation Common Stock|APLD\n",
      "APPLIED GRAPHENE MTLS PLC|APGMF\n",
      "Applied UV, Inc. Common Stock|AUVI\n",
      "COMMODORE APPLIED TECHS|CXIA\n"
     ]
    }
   ],
   "source": [
    "import requests\n",
    "params = {\n",
    "    \"apiKey\": \"wW55pKJzExsThjPDizKdf8OAdDfkvLPW\",\n",
    "    \"ticker\": \"\",\n",
    "    \"market\": \"\",\n",
    "    \"search\": \"appl\",\n",
    "    \"limit\": 1000\n",
    "    }\n",
    "response = requests.get(\"https://api.polygon.io/v3/reference/tickers\", params=params)\n",
    "response_json = response.json()\n",
    "response_json_results = response_json[\"results\"]\n",
    "for i in response_json_results:\n",
    "    print(i[\"name\"] + \"|\" + i[\"ticker\"])\n"
   ]
  },
  {
   "cell_type": "code",
   "execution_count": 6,
   "metadata": {},
   "outputs": [
    {
     "name": "stdout",
     "output_type": "stream",
     "text": [
      "X:1INCHUSD 1inch - United States Dollar crypto\n",
      "X:AAVEUSD Aave - United States Dollar crypto\n",
      "X:ACHUSD Alchemy Pay - United States Dollar crypto\n",
      "X:ADAUSD Cardano - United States Dollar crypto\n",
      "X:ALBTUSD AllianceBlock - United States Dollar crypto\n",
      "X:ALCXUSD Alchemix - United States Dollar crypto\n",
      "X:ALGOUSD Algorand - United States Dollar crypto\n",
      "X:ALICEUSD MyNeighborAlice - United States Dollar crypto\n",
      "X:AMPUSD Amp - United States Dollar crypto\n",
      "X:ANKRUSD Ankr - United States Dollar crypto\n",
      "X:ANTUSD Aragon - United States Dollar crypto\n",
      "X:APEUSD ApeCoin - United States Dollar crypto\n",
      "X:API3USD API3 - United States Dollar crypto\n",
      "X:ARPAUSD ARPA Chain - United States Dollar crypto\n",
      "X:ASMUSD Assemble Protocol - United States Dollar crypto\n",
      "X:ATOMUSD Cosmos - United States Dollar crypto\n",
      "X:AUCTIONUSD Bounce Token - United States Dollar crypto\n",
      "X:AVAXUSD Avalanche - United States Dollar crypto\n",
      "X:AVTUSD Aventus - United States Dollar crypto\n",
      "X:AXSUSD Axie Infinity - United States Dollar crypto\n",
      "X:BADGERUSD Badger Dao - United States Dollar crypto\n",
      "X:BALUSD Balancer - United States Dollar crypto\n",
      "X:BANDUSD Band Protocol - United States Dollar crypto\n",
      "X:BATUSD Basic Attention Token - United States Dollar crypto\n",
      "X:BCHEUR Bitcoin Cash - Euro crypto\n",
      "X:BCHGBP Bitcoin Cash - Great Britian Pound crypto\n",
      "X:BCHUSD Bitcoin Cash - United States Dollar crypto\n",
      "X:BFTUSD BnkToTheFuture - United States Dollar crypto\n",
      "X:BNTUSD Bancor - United States Dollar crypto\n",
      "X:BOBAUSD Boba Network - United States Dollar crypto\n",
      "X:BONDUSD BarnBridge - United States Dollar crypto\n",
      "X:BOSONUSD Boson Protocol - United States Dollar crypto\n",
      "X:BSVUSD Bitcoin SV - United States Dollar crypto\n",
      "X:BTCAUD Bitcoin - Australian Dollar crypto\n",
      "X:BTCEUR Bitcoin - Euro crypto\n",
      "X:BTCGBP Bitcoin - Great Britain Pound crypto\n",
      "X:BTCJPY Bitcoin - Japanese Yen crypto\n",
      "X:BTCUSD Bitcoin - United States Dollar crypto\n",
      "X:BTGUSD Bitcoin Gold - United States Dollar crypto\n",
      "X:BTRSTUSD Braintrust - United States Dollar crypto\n",
      "X:BTSEUSD BTSE - United States Dollar crypto\n",
      "X:BTTUSD BitTorrent - United States Dollar crypto\n",
      "X:C98USD Coin98 - United States Dollar crypto\n",
      "X:CELUSD Celsius - United States Dollar crypto\n",
      "X:CGLDUSD Celo - United States Dollar crypto\n",
      "X:CHSBUSD SwissBorg - United States Dollar crypto\n",
      "X:CHZUSD Chiliz - United States Dollar crypto\n",
      "X:CLOUSD Callisto - United States Dollar crypto\n",
      "X:CLVUSD Clover Finance - United States Dollar crypto\n",
      "X:COMPUSD Compound - United States Dollar crypto\n",
      "X:COTIUSD Coti - United States Dollar crypto\n",
      "X:COVALUSD Circuits of Value - United States Dollar crypto\n",
      "X:CROUSD Crypto.com - United States Dollar crypto\n",
      "X:CRPTUSD Crypterium - United States Dollar crypto\n",
      "X:CRVUSD Curve DAO Token - United States Dollar crypto\n",
      "X:CSMUSD Consentium - United States Dollar crypto\n",
      "X:CTSIUSD Cartesi - United States Dollar crypto\n",
      "X:CVCUSD Civic - United States Dollar crypto\n",
      "X:CVXUSD Convex Finance - United States Dollar crypto\n",
      "X:DAIUSD Dai - United States Dollar crypto\n",
      "X:DASHUSD Dash - United States Dollar crypto\n",
      "X:DDXUSD DerivaDAO - United States Dollar crypto\n",
      "X:DGBUSD DigiByte - United States Dollar crypto\n",
      "X:DNYUSD District0x - United States Dollar crypto\n",
      "X:DOGEUSD Dogecoin - United States Dollar crypto\n",
      "X:DOTUSD Polkadot - United States Dollar crypto\n",
      "X:DSHUSD Dash - United States Dollar crypto\n",
      "X:DUSKUSD Dusk Network - United States Dollar crypto\n",
      "X:DVFUSD DeversiFi - United States Dollar crypto\n",
      "X:DYDXEUR dYdX - Euro crypto\n",
      "X:DYDXUSD dYdX - United States Dollar crypto\n",
      "X:EDOUSD Eidoo - United States Dollar crypto\n",
      "X:EGLDUSD Elrond - United States Dollar crypto\n",
      "X:ELAUSD Elastos - United States Dollar crypto\n",
      "X:ENJUSD Enjin Coin - United States Dollar crypto\n",
      "X:EOSUSD EOS - United States Dollar crypto\n",
      "X:ETCUSD Ethereum Classic - United States Dollar crypto\n",
      "X:ETHAUD Ethereum - Australian dollar crypto\n",
      "X:ETHBTC Ethereum - Bitcoin crypto\n",
      "X:ETHUSD Ethereum - United States Dollar crypto\n",
      "X:ETPUSD Metaverse - United States Dollar crypto\n",
      "X:FARMUSD Harvest Finance - United States Dollar crypto\n",
      "X:FCLUSD Fractal - United States Dollar crypto\n",
      "X:FETUSD Fetch.ai - United States Dollar crypto\n",
      "X:FILUSD Filecoin - United States Dollar crypto\n",
      "X:FISUSD StaFi Protocol - United States Dollar crypto\n",
      "X:FLOWUSD Flow - United States Dollar crypto\n",
      "X:FORTHUSD Ampleforth Governance Token - United States Dollar crypto\n",
      "X:FOXUSD Shapeshift FOX Token - United States Dollar crypto\n",
      "X:FTMUSD Fantom - United States Dollar crypto\n",
      "X:FTTUSD FTX Token - United States Dollar crypto\n",
      "X:FUNUSD FunFair - United States Dollar crypto\n",
      "X:FXUSD Function X - United States Dollar crypto\n",
      "X:GALAUSD Gala Games - United States Dollar crypto\n",
      "X:GHSTUSD Aavegotchi - United States Dollar crypto\n",
      "X:GLMUSD Golem - United States Dollar crypto\n",
      "X:GNOUSD Gnosis - United States Dollar crypto\n",
      "X:GNTUSD Golem - United States Dollar crypto\n",
      "X:GRTUSD The Graph - United States Dollar crypto\n",
      "X:GTCUSD Gitcoin - United States Dollar crypto\n"
     ]
    }
   ],
   "source": [
    "for i in response_json[\"results\"]:\n",
    "    print(i[\"ticker\"] + \" \" + i[\"name\"] + \" \" + i[\"market\"])"
   ]
  },
  {
   "cell_type": "code",
   "execution_count": 7,
   "metadata": {},
   "outputs": [
    {
     "name": "stdout",
     "output_type": "stream",
     "text": [
      "X:BTCAUD Bitcoin - Australian Dollar crypto\n",
      "X:BTCEUR Bitcoin - Euro crypto\n",
      "X:BTCGBP Bitcoin - Great Britain Pound crypto\n",
      "X:BTCJPY Bitcoin - Japanese Yen crypto\n",
      "X:BTCUSD Bitcoin - United States Dollar crypto\n",
      "X:ETHBTC Ethereum - Bitcoin crypto\n"
     ]
    }
   ],
   "source": [
    "for i in response_json[\"results\"]:\n",
    "    if \"BTC\" in i[\"ticker\"]:\n",
    "        print(i[\"ticker\"] + \" \" + i[\"name\"] + \" \" + i[\"market\"])"
   ]
  },
  {
   "cell_type": "code",
   "execution_count": 8,
   "metadata": {},
   "outputs": [
    {
     "data": {
      "text/plain": [
       "242"
      ]
     },
     "execution_count": 8,
     "metadata": {},
     "output_type": "execute_result"
    }
   ],
   "source": [
    "response = requests.get(\"https://api.polygon.io/v3/reference/tickers?market=crypto&active=true&limit=1000&apiKey=wW55pKJzExsThjPDizKdf8OAdDfkvLPW\")\n",
    "len(response.json()[\"results\"])"
   ]
  },
  {
   "cell_type": "markdown",
   "metadata": {},
   "source": [
    "Search for a ticker from the name"
   ]
  },
  {
   "cell_type": "code",
   "execution_count": 19,
   "metadata": {},
   "outputs": [
    {
     "name": "stdout",
     "output_type": "stream",
     "text": [
      "[Ticker(active=True, cik=None, composite_figi=None, currency_name='United States Dollar', currency_symbol='USD', base_currency_symbol='BCH', base_currency_name='Bitcoin Cash', delisted_utc=None, last_updated_utc='2017-01-01T00:00:00Z', locale='global', market='crypto', name='Bitcoin Cash - United States Dollar', primary_exchange=None, share_class_figi=None, ticker='X:BCHUSD', type=None, source_feed=None), Ticker(active=True, cik=None, composite_figi=None, currency_name='Great Britian Pound', currency_symbol='GBP', base_currency_symbol='BCH', base_currency_name='Bitcoin Cash', delisted_utc=None, last_updated_utc='2017-01-01T00:00:00Z', locale='global', market='crypto', name='Bitcoin Cash - Great Britian Pound', primary_exchange=None, share_class_figi=None, ticker='X:BCHGBP', type=None, source_feed=None), Ticker(active=True, cik=None, composite_figi=None, currency_name='United States Dollar', currency_symbol='USD', base_currency_symbol='BSV', base_currency_name='Bitcoin SV', delisted_utc=None, last_updated_utc='2017-01-01T00:00:00Z', locale='global', market='crypto', name='Bitcoin SV - United States Dollar', primary_exchange=None, share_class_figi=None, ticker='X:BSVUSD', type=None, source_feed=None), Ticker(active=True, cik=None, composite_figi=None, currency_name='Bitcoin', currency_symbol='BTC', base_currency_symbol='ETH', base_currency_name='Ethereum', delisted_utc=None, last_updated_utc='2017-01-01T00:00:00Z', locale='global', market='crypto', name='Ethereum - Bitcoin', primary_exchange=None, share_class_figi=None, ticker='X:ETHBTC', type=None, source_feed=None), Ticker(active=True, cik=None, composite_figi=None, currency_name='Euro', currency_symbol='EUR', base_currency_symbol='BTC', base_currency_name='Bitcoin', delisted_utc=None, last_updated_utc='2017-01-01T00:00:00Z', locale='global', market='crypto', name='Bitcoin - Euro', primary_exchange=None, share_class_figi=None, ticker='X:BTCEUR', type=None, source_feed=None), Ticker(active=True, cik=None, composite_figi=None, currency_name='Australian Dollar', currency_symbol='AUD', base_currency_symbol='BTC', base_currency_name='Bitcoin', delisted_utc=None, last_updated_utc='2017-01-01T00:00:00Z', locale='global', market='crypto', name='Bitcoin - Australian Dollar', primary_exchange=None, share_class_figi=None, ticker='X:BTCAUD', type=None, source_feed=None), Ticker(active=True, cik=None, composite_figi=None, currency_name='United States Dollar', currency_symbol='USD', base_currency_symbol='BTC', base_currency_name='Bitcoin', delisted_utc=None, last_updated_utc='2017-01-01T00:00:00Z', locale='global', market='crypto', name='Bitcoin - United States Dollar', primary_exchange=None, share_class_figi=None, ticker='X:BTCUSD', type=None, source_feed=None), Ticker(active=True, cik=None, composite_figi=None, currency_name='Bitcoin', currency_symbol='BTC', base_currency_symbol='XRP', base_currency_name='Ripple', delisted_utc=None, last_updated_utc='2017-01-01T00:00:00Z', locale='global', market='crypto', name='Ripple - Bitcoin', primary_exchange=None, share_class_figi=None, ticker='X:XRPBTC', type=None, source_feed=None), Ticker(active=True, cik=None, composite_figi=None, currency_name='United States Dollar', currency_symbol='USD', base_currency_symbol='BTG', base_currency_name='Bitcoin Gold', delisted_utc=None, last_updated_utc='2017-01-01T00:00:00Z', locale='global', market='crypto', name='Bitcoin Gold - United States Dollar', primary_exchange=None, share_class_figi=None, ticker='X:BTGUSD', type=None, source_feed=None), Ticker(active=True, cik=None, composite_figi=None, currency_name='Bitcoin', currency_symbol='BTC', base_currency_symbol='LTC', base_currency_name='Litecoin', delisted_utc=None, last_updated_utc='2017-01-01T00:00:00Z', locale='global', market='crypto', name='Litecoin - Bitcoin', primary_exchange=None, share_class_figi=None, ticker='X:LTCBTC', type=None, source_feed=None), Ticker(active=True, cik=None, composite_figi=None, currency_name='Great Britain Pound', currency_symbol='GBP', base_currency_symbol='BTC', base_currency_name='Bitcoin', delisted_utc=None, last_updated_utc='2017-01-01T00:00:00Z', locale='global', market='crypto', name='Bitcoin - Great Britain Pound', primary_exchange=None, share_class_figi=None, ticker='X:BTCGBP', type=None, source_feed=None), Ticker(active=True, cik=None, composite_figi=None, currency_name='United States Dollar', currency_symbol='USD', base_currency_symbol='WBTC', base_currency_name='Wrapped Bitcoin', delisted_utc=None, last_updated_utc='2017-01-01T00:00:00Z', locale='global', market='crypto', name='Wrapped Bitcoin - United States Dollar', primary_exchange=None, share_class_figi=None, ticker='X:WBTCUSD', type=None, source_feed=None), Ticker(active=True, cik=None, composite_figi=None, currency_name='Euro', currency_symbol='EUR', base_currency_symbol='BCH', base_currency_name='Bitcoin Cash', delisted_utc=None, last_updated_utc='2017-01-01T00:00:00Z', locale='global', market='crypto', name='Bitcoin Cash - Euro', primary_exchange=None, share_class_figi=None, ticker='X:BCHEUR', type=None, source_feed=None), Ticker(active=True, cik=None, composite_figi=None, currency_name='Japanese Yen', currency_symbol='JPY', base_currency_symbol='BTC', base_currency_name='Bitcoin', delisted_utc=None, last_updated_utc='2017-01-01T00:00:00Z', locale='global', market='crypto', name='Bitcoin - Japanese Yen', primary_exchange=None, share_class_figi=None, ticker='X:BTCJPY', type=None, source_feed=None)]\n",
      "X:BCHUSD Bitcoin Cash - United States Dollar crypto\n",
      "X:BCHGBP Bitcoin Cash - Great Britian Pound crypto\n",
      "X:BSVUSD Bitcoin SV - United States Dollar crypto\n",
      "X:ETHBTC Ethereum - Bitcoin crypto\n",
      "X:BTCEUR Bitcoin - Euro crypto\n",
      "X:BTCAUD Bitcoin - Australian Dollar crypto\n",
      "X:BTCUSD Bitcoin - United States Dollar crypto\n",
      "X:XRPBTC Ripple - Bitcoin crypto\n",
      "X:BTGUSD Bitcoin Gold - United States Dollar crypto\n",
      "X:LTCBTC Litecoin - Bitcoin crypto\n",
      "X:BTCGBP Bitcoin - Great Britain Pound crypto\n",
      "X:WBTCUSD Wrapped Bitcoin - United States Dollar crypto\n",
      "X:BCHEUR Bitcoin Cash - Euro crypto\n",
      "X:BTCJPY Bitcoin - Japanese Yen crypto\n"
     ]
    }
   ],
   "source": [
    "tickers = []\n",
    "for t in client.list_tickers(search=\"bitcoin\", limit=1000, market=\"crypto\"):\n",
    "    tickers.append(t)\n",
    "print(tickers)\n",
    "for i in tickers:\n",
    "    print(i.ticker + \" \" + i.name + \" \" + i.market)"
   ]
  },
  {
   "cell_type": "code",
   "execution_count": 20,
   "metadata": {},
   "outputs": [
    {
     "name": "stdout",
     "output_type": "stream",
     "text": [
      "AAPY Kurv Yield Premium Strategy Apple (AAPL) ETF stocks\n",
      "APLE Apple Hospitality REIT, Inc. stocks\n",
      "AAPX T-Rex 2X Long Apple Daily Target ETF stocks\n",
      "AAPL Apple Inc. stocks\n"
     ]
    }
   ],
   "source": [
    "tickers_stock = []\n",
    "for t in client.list_tickers(search=\"apple\", limit=1000, market=\"stocks\"):\n",
    "    tickers_stock.append(t)\n",
    "for i in tickers_stock:\n",
    "    print(i.ticker + \" \" + i.name + \" \" + i.market)"
   ]
  }
 ],
 "metadata": {
  "kernelspec": {
   "display_name": "Python 3",
   "language": "python",
   "name": "python3"
  },
  "language_info": {
   "codemirror_mode": {
    "name": "ipython",
    "version": 3
   },
   "file_extension": ".py",
   "mimetype": "text/x-python",
   "name": "python",
   "nbconvert_exporter": "python",
   "pygments_lexer": "ipython3",
   "version": "3.9.11"
  }
 },
 "nbformat": 4,
 "nbformat_minor": 2
}
