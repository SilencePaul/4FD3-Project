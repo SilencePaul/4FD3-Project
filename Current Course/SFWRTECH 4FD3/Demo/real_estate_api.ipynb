{
 "cells": [
  {
   "cell_type": "code",
   "execution_count": 41,
   "outputs": [
    {
     "name": "stdout",
     "output_type": "stream",
     "text": [
      "/en/estimate/?search_str=44+Carling+Street%2C+Hamilton%2C+ON\n",
      "740,388\n"
     ]
    }
   ],
   "source": [
    "from http.client import HTTPSConnection\n",
    "from urllib.parse import quote_plus\n",
    "import re\n",
    "\n",
    "address = quote_plus(\"44 Carling Street, Hamilton, ON\")\n",
    "host = \"www.royallepage.ca\"\n",
    "\n",
    "regex = r'id=\"quick-quote-estimate\"[^>]+>\\$([0-9,]+)'\n",
    "url = \"/en/estimate/?search_str=\"+address\n",
    "print(url)\n",
    "\n",
    "conn = HTTPSConnection(host)\n",
    "conn.request(\"GET\", url, headers={\"Host\": host})\n",
    "res = conn.getresponse()\n",
    "length = int(res.getheader('Content-Length', '0'))\n",
    "raw = str(res.read(length))\n",
    "\n",
    "matches = re.findall(regex, raw, re.MULTILINE)\n",
    "if matches:\n",
    "    print(matches[0])\n",
    "else:\n",
    "    print(\"Address [\", address, \"] invalid or can't be estimated\")"
   ],
   "metadata": {
    "collapsed": false,
    "ExecuteTime": {
     "end_time": "2024-01-30T03:10:22.576076300Z",
     "start_time": "2024-01-30T03:10:20.351225700Z"
    }
   },
   "id": "e0637a68621941aa"
  },
  {
   "cell_type": "markdown",
   "source": [
    "### API by Real Property Solutions (RPS)\n",
    "\n",
    "#### Estimate by address\n",
    "Pass in \"search_str\"\n",
    "GET `https://www.royallepage.ca/en/estimate/?search_str=44%20Carling%20Street%2C%20Hamilton%2C%20ON`\n",
    "Use Regex `id=\"quick-quote-estimate\"[^\\>]+>\\$([0-9,]+)` (1-value) to find estimated value in response text."
   ],
   "metadata": {
    "collapsed": false
   },
   "id": "2ba2a37c3777194d"
  }
 ],
 "metadata": {
  "kernelspec": {
   "display_name": "Python 3",
   "language": "python",
   "name": "python3"
  },
  "language_info": {
   "codemirror_mode": {
    "name": "ipython",
    "version": 2
   },
   "file_extension": ".py",
   "mimetype": "text/x-python",
   "name": "python",
   "nbconvert_exporter": "python",
   "pygments_lexer": "ipython2",
   "version": "2.7.6"
  }
 },
 "nbformat": 4,
 "nbformat_minor": 5
}
