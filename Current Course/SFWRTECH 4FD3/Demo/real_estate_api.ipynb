{
 "cells": [
  {
   "cell_type": "markdown",
   "source": [
    "### API by Real Property Solutions (RPS)\n",
    "\n",
    "#### Estimate by address\n",
    "Pass in \"search_str\"\n",
    "GET `https://www.royallepage.ca/en/estimate/?search_str=44%20Carling%20Street%2C%20Hamilton%2C%20ON`\n",
    "Use Regex `\\<div id\\=\\\"quick\\-quote\\-estimate\\\" class\\=\\\"market\\-trends\\-data quick\\-trends\\-data quick\\-estimate\\\"\\>\\$([0-9,]+)\\<\\/div\\>` (1-value) to find estimated value in response text."
   ],
   "metadata": {
    "collapsed": false
   },
   "id": "2ba2a37c3777194d"
  }
 ],
 "metadata": {
  "kernelspec": {
   "display_name": "Python 3",
   "language": "python",
   "name": "python3"
  },
  "language_info": {
   "codemirror_mode": {
    "name": "ipython",
    "version": 2
   },
   "file_extension": ".py",
   "mimetype": "text/x-python",
   "name": "python",
   "nbconvert_exporter": "python",
   "pygments_lexer": "ipython2",
   "version": "2.7.6"
  }
 },
 "nbformat": 4,
 "nbformat_minor": 5
}
