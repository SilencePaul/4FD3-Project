{
 "cells": [
  {
   "cell_type": "code",
   "execution_count": 1,
   "id": "initial_id",
   "metadata": {
    "collapsed": true,
    "ExecuteTime": {
     "end_time": "2024-02-01T01:16:53.107104700Z",
     "start_time": "2024-02-01T01:16:52.986828600Z"
    }
   },
   "outputs": [
    {
     "name": "stdout",
     "output_type": "stream",
     "text": [
      "oDqxm4ZvxYW1yxgSovY8qGHn52Q+5dQ/1xBrYjcl/Wc=\n",
      "\n",
      "True\n"
     ]
    }
   ],
   "source": [
    "import base64\n",
    "from Crypto.Hash import SHA3_256\n",
    "\n",
    "class DataHasher:\n",
    "    \n",
    "    def __init__(self):\n",
    "        self.encoding = \"UTF-8\"\n",
    "    \n",
    "    def hash(self, *plaintexts:str):\n",
    "        sha = SHA3_256.new(''.join(plaintexts).encode(self.encoding))\n",
    "        return base64.encodebytes(sha.digest()).decode(self.encoding)\n",
    "    \n",
    "    def verify(self, checksum:str, *plaintexts:str):\n",
    "        return self.hash(*plaintexts) == checksum\n",
    "\n",
    "hasher = DataHasher()\n",
    "record = [\"1\", \"2\", \"3\"]\n",
    "checksum = hasher.hash(*record)\n",
    "ok = hasher.verify(checksum, *record)\n",
    "print(checksum)\n",
    "print(ok)"
   ]
  }
 ],
 "metadata": {
  "kernelspec": {
   "display_name": "Python 3",
   "language": "python",
   "name": "python3"
  },
  "language_info": {
   "codemirror_mode": {
    "name": "ipython",
    "version": 2
   },
   "file_extension": ".py",
   "mimetype": "text/x-python",
   "name": "python",
   "nbconvert_exporter": "python",
   "pygments_lexer": "ipython2",
   "version": "2.7.6"
  }
 },
 "nbformat": 4,
 "nbformat_minor": 5
}
