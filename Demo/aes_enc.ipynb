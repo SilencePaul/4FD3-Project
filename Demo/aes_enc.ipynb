{
 "cells": [
  {
   "cell_type": "code",
   "execution_count": 1,
   "id": "initial_id",
   "metadata": {
    "collapsed": true,
    "ExecuteTime": {
     "end_time": "2024-02-01T01:16:58.302734500Z",
     "start_time": "2024-02-01T01:16:58.135521700Z"
    }
   },
   "outputs": [
    {
     "name": "stdout",
     "output_type": "stream",
     "text": [
      "iYDspEhajirO2M5Q7S0nzA==\n",
      "\n",
      "123 == 123 ( True )\n"
     ]
    }
   ],
   "source": [
    "import base64\n",
    "from Crypto.Hash import BLAKE2b\n",
    "from Crypto.Cipher import AES\n",
    "from Crypto.Util.Padding import pad, unpad\n",
    "\n",
    "class DataCipher:\n",
    "    \n",
    "    def __init__(self, key:bytes, iv:bytes):\n",
    "        self.encoding = \"UTF-8\"\n",
    "        self.key = BLAKE2b.new(digest_bits=256).update(key).digest() # 32 bytes\n",
    "        self.iv = BLAKE2b.new(digest_bits=128).update(iv).digest() # 16 bytes\n",
    "    \n",
    "    def encrypt(self, text:str):\n",
    "        aes = AES.new(self.key, AES.MODE_CBC, iv=self.iv)\n",
    "        cipher_data = aes.encrypt(pad(text.encode(self.encoding), AES.block_size))\n",
    "        return base64.encodebytes(cipher_data).decode(self.encoding)\n",
    "    \n",
    "    def decrypt(self, b64:str):\n",
    "        aes = AES.new(self.key, AES.MODE_CBC, iv=self.iv)\n",
    "        cipher_data = base64.decodebytes(b64.encode(self.encoding))\n",
    "        plain_data = unpad(aes.decrypt(cipher_data), AES.block_size)\n",
    "        return plain_data.decode(self.encoding)\n",
    "\n",
    "plaintext = \"123\"\n",
    "cipher = DataCipher(b\"secret\", b\"123456\")\n",
    "ciphertext = cipher.encrypt(plaintext)\n",
    "plaintext_ = cipher.decrypt(ciphertext)\n",
    "print(ciphertext)\n",
    "print(plaintext, \"==\", plaintext_, \"(\", plaintext == plaintext_, \")\")"
   ]
  }
 ],
 "metadata": {
  "kernelspec": {
   "display_name": "Python 3",
   "language": "python",
   "name": "python3"
  },
  "language_info": {
   "codemirror_mode": {
    "name": "ipython",
    "version": 2
   },
   "file_extension": ".py",
   "mimetype": "text/x-python",
   "name": "python",
   "nbconvert_exporter": "python",
   "pygments_lexer": "ipython2",
   "version": "2.7.6"
  }
 },
 "nbformat": 4,
 "nbformat_minor": 5
}
